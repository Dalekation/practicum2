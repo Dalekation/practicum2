{
 "cells": [
  {
   "cell_type": "code",
   "execution_count": 1,
   "metadata": {},
   "outputs": [],
   "source": [
    "from sklearn.linear_model import Lasso, Ridge, ElasticNet\n",
    "import pandas as pd\n",
    "import numpy as np\n",
    "import matplotlib.pyplot as plt\n",
    "import scipy.stats as st\n",
    "from sklearn.preprocessing import normalize, StandardScaler\n",
    "# from sklearn.datasets import load_boston\n",
    "from tqdm import tqdm\n",
    "from sklearn.pipeline import make_pipeline\n",
    "from sklearn.model_selection import cross_val_score, cross_validate\n",
    "from sklearn.model_selection import KFold\n",
    "import statsmodels.api as sm\n",
    "from sklearn.feature_selection import SelectKBest, f_classif,  f_regression"
   ]
  },
  {
   "attachments": {},
   "cell_type": "markdown",
   "metadata": {},
   "source": [
    "# Task 1"
   ]
  },
  {
   "cell_type": "code",
   "execution_count": 2,
   "metadata": {},
   "outputs": [],
   "source": [
    "n = 200\n",
    "\n",
    "X1 = st.norm.rvs(size=n)\n",
    "X2 = st.norm.rvs(size=n)\n",
    "X3 = st.norm.rvs(size=n)\n",
    "X4 = st.norm.rvs(size=n)\n",
    "eps = st.norm.rvs(size=n)\n",
    "\n",
    "y = 0.9 * X1 + 0.1 * X2 + 0.3 * X1 * X2 + eps"
   ]
  },
  {
   "cell_type": "code",
   "execution_count": 3,
   "metadata": {},
   "outputs": [
    {
     "data": {
      "text/plain": [
       "array(['X1', 'X1**2', 'X2', 'X2**2', 'X3', 'X3**2', 'X4', 'X4**2'],\n",
       "      dtype='<U5')"
      ]
     },
     "execution_count": 3,
     "metadata": {},
     "output_type": "execute_result"
    }
   ],
   "source": [
    "X = np.stack([X1, X1**2, X2, X2**2, X3, X3**2, X4, X4**2])\n",
    "names = np.array('X1, X1**2, X2, X2**2, X3, X3**2, X4, X4**2'.split(', '))\n",
    "names"
   ]
  },
  {
   "cell_type": "code",
   "execution_count": 4,
   "metadata": {},
   "outputs": [
    {
     "data": {
      "text/plain": [
       "[[False, False, False, False, False, False, False, False],\n",
       " [True, False, False, False, False, False, False, False],\n",
       " [False, True, False, False, False, False, False, False],\n",
       " [True, True, False, False, False, False, False, False],\n",
       " [False, False, True, False, False, False, False, False],\n",
       " [True, False, True, False, False, False, False, False],\n",
       " [False, True, True, False, False, False, False, False],\n",
       " [True, True, True, False, False, False, False, False],\n",
       " [False, False, False, True, False, False, False, False],\n",
       " [True, False, False, True, False, False, False, False],\n",
       " [False, True, False, True, False, False, False, False],\n",
       " [True, True, False, True, False, False, False, False],\n",
       " [False, False, True, True, False, False, False, False],\n",
       " [True, False, True, True, False, False, False, False],\n",
       " [False, True, True, True, False, False, False, False],\n",
       " [True, True, True, True, False, False, False, False],\n",
       " [False, False, False, False, True, False, False, False],\n",
       " [True, False, False, False, True, False, False, False],\n",
       " [False, True, False, False, True, False, False, False],\n",
       " [True, True, False, False, True, False, False, False],\n",
       " [False, False, True, False, True, False, False, False],\n",
       " [True, False, True, False, True, False, False, False],\n",
       " [False, True, True, False, True, False, False, False],\n",
       " [True, True, True, False, True, False, False, False],\n",
       " [False, False, False, True, True, False, False, False],\n",
       " [True, False, False, True, True, False, False, False],\n",
       " [False, True, False, True, True, False, False, False],\n",
       " [True, True, False, True, True, False, False, False],\n",
       " [False, False, True, True, True, False, False, False],\n",
       " [True, False, True, True, True, False, False, False],\n",
       " [False, True, True, True, True, False, False, False],\n",
       " [True, True, True, True, True, False, False, False],\n",
       " [False, False, False, False, False, True, False, False],\n",
       " [True, False, False, False, False, True, False, False],\n",
       " [False, True, False, False, False, True, False, False],\n",
       " [True, True, False, False, False, True, False, False],\n",
       " [False, False, True, False, False, True, False, False],\n",
       " [True, False, True, False, False, True, False, False],\n",
       " [False, True, True, False, False, True, False, False],\n",
       " [True, True, True, False, False, True, False, False],\n",
       " [False, False, False, True, False, True, False, False],\n",
       " [True, False, False, True, False, True, False, False],\n",
       " [False, True, False, True, False, True, False, False],\n",
       " [True, True, False, True, False, True, False, False],\n",
       " [False, False, True, True, False, True, False, False],\n",
       " [True, False, True, True, False, True, False, False],\n",
       " [False, True, True, True, False, True, False, False],\n",
       " [True, True, True, True, False, True, False, False],\n",
       " [False, False, False, False, True, True, False, False],\n",
       " [True, False, False, False, True, True, False, False],\n",
       " [False, True, False, False, True, True, False, False],\n",
       " [True, True, False, False, True, True, False, False],\n",
       " [False, False, True, False, True, True, False, False],\n",
       " [True, False, True, False, True, True, False, False],\n",
       " [False, True, True, False, True, True, False, False],\n",
       " [True, True, True, False, True, True, False, False],\n",
       " [False, False, False, True, True, True, False, False],\n",
       " [True, False, False, True, True, True, False, False],\n",
       " [False, True, False, True, True, True, False, False],\n",
       " [True, True, False, True, True, True, False, False],\n",
       " [False, False, True, True, True, True, False, False],\n",
       " [True, False, True, True, True, True, False, False],\n",
       " [False, True, True, True, True, True, False, False],\n",
       " [True, True, True, True, True, True, False, False],\n",
       " [False, False, False, False, False, False, True, False],\n",
       " [True, False, False, False, False, False, True, False],\n",
       " [False, True, False, False, False, False, True, False],\n",
       " [True, True, False, False, False, False, True, False],\n",
       " [False, False, True, False, False, False, True, False],\n",
       " [True, False, True, False, False, False, True, False],\n",
       " [False, True, True, False, False, False, True, False],\n",
       " [True, True, True, False, False, False, True, False],\n",
       " [False, False, False, True, False, False, True, False],\n",
       " [True, False, False, True, False, False, True, False],\n",
       " [False, True, False, True, False, False, True, False],\n",
       " [True, True, False, True, False, False, True, False],\n",
       " [False, False, True, True, False, False, True, False],\n",
       " [True, False, True, True, False, False, True, False],\n",
       " [False, True, True, True, False, False, True, False],\n",
       " [True, True, True, True, False, False, True, False],\n",
       " [False, False, False, False, True, False, True, False],\n",
       " [True, False, False, False, True, False, True, False],\n",
       " [False, True, False, False, True, False, True, False],\n",
       " [True, True, False, False, True, False, True, False],\n",
       " [False, False, True, False, True, False, True, False],\n",
       " [True, False, True, False, True, False, True, False],\n",
       " [False, True, True, False, True, False, True, False],\n",
       " [True, True, True, False, True, False, True, False],\n",
       " [False, False, False, True, True, False, True, False],\n",
       " [True, False, False, True, True, False, True, False],\n",
       " [False, True, False, True, True, False, True, False],\n",
       " [True, True, False, True, True, False, True, False],\n",
       " [False, False, True, True, True, False, True, False],\n",
       " [True, False, True, True, True, False, True, False],\n",
       " [False, True, True, True, True, False, True, False],\n",
       " [True, True, True, True, True, False, True, False],\n",
       " [False, False, False, False, False, True, True, False],\n",
       " [True, False, False, False, False, True, True, False],\n",
       " [False, True, False, False, False, True, True, False],\n",
       " [True, True, False, False, False, True, True, False],\n",
       " [False, False, True, False, False, True, True, False],\n",
       " [True, False, True, False, False, True, True, False],\n",
       " [False, True, True, False, False, True, True, False],\n",
       " [True, True, True, False, False, True, True, False],\n",
       " [False, False, False, True, False, True, True, False],\n",
       " [True, False, False, True, False, True, True, False],\n",
       " [False, True, False, True, False, True, True, False],\n",
       " [True, True, False, True, False, True, True, False],\n",
       " [False, False, True, True, False, True, True, False],\n",
       " [True, False, True, True, False, True, True, False],\n",
       " [False, True, True, True, False, True, True, False],\n",
       " [True, True, True, True, False, True, True, False],\n",
       " [False, False, False, False, True, True, True, False],\n",
       " [True, False, False, False, True, True, True, False],\n",
       " [False, True, False, False, True, True, True, False],\n",
       " [True, True, False, False, True, True, True, False],\n",
       " [False, False, True, False, True, True, True, False],\n",
       " [True, False, True, False, True, True, True, False],\n",
       " [False, True, True, False, True, True, True, False],\n",
       " [True, True, True, False, True, True, True, False],\n",
       " [False, False, False, True, True, True, True, False],\n",
       " [True, False, False, True, True, True, True, False],\n",
       " [False, True, False, True, True, True, True, False],\n",
       " [True, True, False, True, True, True, True, False],\n",
       " [False, False, True, True, True, True, True, False],\n",
       " [True, False, True, True, True, True, True, False],\n",
       " [False, True, True, True, True, True, True, False],\n",
       " [True, True, True, True, True, True, True, False],\n",
       " [False, False, False, False, False, False, False, True],\n",
       " [True, False, False, False, False, False, False, True],\n",
       " [False, True, False, False, False, False, False, True],\n",
       " [True, True, False, False, False, False, False, True],\n",
       " [False, False, True, False, False, False, False, True],\n",
       " [True, False, True, False, False, False, False, True],\n",
       " [False, True, True, False, False, False, False, True],\n",
       " [True, True, True, False, False, False, False, True],\n",
       " [False, False, False, True, False, False, False, True],\n",
       " [True, False, False, True, False, False, False, True],\n",
       " [False, True, False, True, False, False, False, True],\n",
       " [True, True, False, True, False, False, False, True],\n",
       " [False, False, True, True, False, False, False, True],\n",
       " [True, False, True, True, False, False, False, True],\n",
       " [False, True, True, True, False, False, False, True],\n",
       " [True, True, True, True, False, False, False, True],\n",
       " [False, False, False, False, True, False, False, True],\n",
       " [True, False, False, False, True, False, False, True],\n",
       " [False, True, False, False, True, False, False, True],\n",
       " [True, True, False, False, True, False, False, True],\n",
       " [False, False, True, False, True, False, False, True],\n",
       " [True, False, True, False, True, False, False, True],\n",
       " [False, True, True, False, True, False, False, True],\n",
       " [True, True, True, False, True, False, False, True],\n",
       " [False, False, False, True, True, False, False, True],\n",
       " [True, False, False, True, True, False, False, True],\n",
       " [False, True, False, True, True, False, False, True],\n",
       " [True, True, False, True, True, False, False, True],\n",
       " [False, False, True, True, True, False, False, True],\n",
       " [True, False, True, True, True, False, False, True],\n",
       " [False, True, True, True, True, False, False, True],\n",
       " [True, True, True, True, True, False, False, True],\n",
       " [False, False, False, False, False, True, False, True],\n",
       " [True, False, False, False, False, True, False, True],\n",
       " [False, True, False, False, False, True, False, True],\n",
       " [True, True, False, False, False, True, False, True],\n",
       " [False, False, True, False, False, True, False, True],\n",
       " [True, False, True, False, False, True, False, True],\n",
       " [False, True, True, False, False, True, False, True],\n",
       " [True, True, True, False, False, True, False, True],\n",
       " [False, False, False, True, False, True, False, True],\n",
       " [True, False, False, True, False, True, False, True],\n",
       " [False, True, False, True, False, True, False, True],\n",
       " [True, True, False, True, False, True, False, True],\n",
       " [False, False, True, True, False, True, False, True],\n",
       " [True, False, True, True, False, True, False, True],\n",
       " [False, True, True, True, False, True, False, True],\n",
       " [True, True, True, True, False, True, False, True],\n",
       " [False, False, False, False, True, True, False, True],\n",
       " [True, False, False, False, True, True, False, True],\n",
       " [False, True, False, False, True, True, False, True],\n",
       " [True, True, False, False, True, True, False, True],\n",
       " [False, False, True, False, True, True, False, True],\n",
       " [True, False, True, False, True, True, False, True],\n",
       " [False, True, True, False, True, True, False, True],\n",
       " [True, True, True, False, True, True, False, True],\n",
       " [False, False, False, True, True, True, False, True],\n",
       " [True, False, False, True, True, True, False, True],\n",
       " [False, True, False, True, True, True, False, True],\n",
       " [True, True, False, True, True, True, False, True],\n",
       " [False, False, True, True, True, True, False, True],\n",
       " [True, False, True, True, True, True, False, True],\n",
       " [False, True, True, True, True, True, False, True],\n",
       " [True, True, True, True, True, True, False, True],\n",
       " [False, False, False, False, False, False, True, True],\n",
       " [True, False, False, False, False, False, True, True],\n",
       " [False, True, False, False, False, False, True, True],\n",
       " [True, True, False, False, False, False, True, True],\n",
       " [False, False, True, False, False, False, True, True],\n",
       " [True, False, True, False, False, False, True, True],\n",
       " [False, True, True, False, False, False, True, True],\n",
       " [True, True, True, False, False, False, True, True],\n",
       " [False, False, False, True, False, False, True, True],\n",
       " [True, False, False, True, False, False, True, True],\n",
       " [False, True, False, True, False, False, True, True],\n",
       " [True, True, False, True, False, False, True, True],\n",
       " [False, False, True, True, False, False, True, True],\n",
       " [True, False, True, True, False, False, True, True],\n",
       " [False, True, True, True, False, False, True, True],\n",
       " [True, True, True, True, False, False, True, True],\n",
       " [False, False, False, False, True, False, True, True],\n",
       " [True, False, False, False, True, False, True, True],\n",
       " [False, True, False, False, True, False, True, True],\n",
       " [True, True, False, False, True, False, True, True],\n",
       " [False, False, True, False, True, False, True, True],\n",
       " [True, False, True, False, True, False, True, True],\n",
       " [False, True, True, False, True, False, True, True],\n",
       " [True, True, True, False, True, False, True, True],\n",
       " [False, False, False, True, True, False, True, True],\n",
       " [True, False, False, True, True, False, True, True],\n",
       " [False, True, False, True, True, False, True, True],\n",
       " [True, True, False, True, True, False, True, True],\n",
       " [False, False, True, True, True, False, True, True],\n",
       " [True, False, True, True, True, False, True, True],\n",
       " [False, True, True, True, True, False, True, True],\n",
       " [True, True, True, True, True, False, True, True],\n",
       " [False, False, False, False, False, True, True, True],\n",
       " [True, False, False, False, False, True, True, True],\n",
       " [False, True, False, False, False, True, True, True],\n",
       " [True, True, False, False, False, True, True, True],\n",
       " [False, False, True, False, False, True, True, True],\n",
       " [True, False, True, False, False, True, True, True],\n",
       " [False, True, True, False, False, True, True, True],\n",
       " [True, True, True, False, False, True, True, True],\n",
       " [False, False, False, True, False, True, True, True],\n",
       " [True, False, False, True, False, True, True, True],\n",
       " [False, True, False, True, False, True, True, True],\n",
       " [True, True, False, True, False, True, True, True],\n",
       " [False, False, True, True, False, True, True, True],\n",
       " [True, False, True, True, False, True, True, True],\n",
       " [False, True, True, True, False, True, True, True],\n",
       " [True, True, True, True, False, True, True, True],\n",
       " [False, False, False, False, True, True, True, True],\n",
       " [True, False, False, False, True, True, True, True],\n",
       " [False, True, False, False, True, True, True, True],\n",
       " [True, True, False, False, True, True, True, True],\n",
       " [False, False, True, False, True, True, True, True],\n",
       " [True, False, True, False, True, True, True, True],\n",
       " [False, True, True, False, True, True, True, True],\n",
       " [True, True, True, False, True, True, True, True],\n",
       " [False, False, False, True, True, True, True, True],\n",
       " [True, False, False, True, True, True, True, True],\n",
       " [False, True, False, True, True, True, True, True],\n",
       " [True, True, False, True, True, True, True, True],\n",
       " [False, False, True, True, True, True, True, True],\n",
       " [True, False, True, True, True, True, True, True],\n",
       " [False, True, True, True, True, True, True, True],\n",
       " [True, True, True, True, True, True, True, True]]"
      ]
     },
     "execution_count": 4,
     "metadata": {},
     "output_type": "execute_result"
    }
   ],
   "source": [
    "p = 8\n",
    "K = []\n",
    "\n",
    "for i in range(2**p):\n",
    "    tmp = []\n",
    "    for j in range(p):\n",
    "        tmp.append(i & (1 << j) != 0)\n",
    "        # tmp.append(i & (1 << j) != 0)\n",
    "    K.append(tmp)\n",
    "\n",
    "K"
   ]
  },
  {
   "cell_type": "code",
   "execution_count": null,
   "metadata": {},
   "outputs": [],
   "source": []
  },
  {
   "cell_type": "code",
   "execution_count": 5,
   "metadata": {},
   "outputs": [
    {
     "name": "stdout",
     "output_type": "stream",
     "text": [
      "['X1']\n"
     ]
    },
    {
     "data": {
      "text/plain": [
       "<matplotlib.collections.PathCollection at 0x16a773100>"
      ]
     },
     "execution_count": 5,
     "metadata": {},
     "output_type": "execute_result"
    },
    {
     "data": {
      "image/png": "[encoded data removed]",
      "text/plain": [
       "<Figure size 640x480 with 1 Axes>"
      ]
     },
     "metadata": {},
     "output_type": "display_data"
    }
   ],
   "source": [
    "subset_size = []\n",
    "err = []\n",
    "for el in K:\n",
    "    X_ = X[el].T\n",
    "    X_ = sm.add_constant(X_)\n",
    "\n",
    "    reg = sm.OLS(y, X_).fit()\n",
    "    \n",
    "    if sum(el) != 0:\n",
    "        subset_size.append(sum(el))\n",
    "        err.append(reg.fvalue)\n",
    "    else:\n",
    "        subset_size.append(0)\n",
    "        err.append(0)\n",
    "\n",
    "print(names[K[np.argmax(err)]])\n",
    "plt.scatter(subset_size, err)"
   ]
  },
  {
   "cell_type": "code",
   "execution_count": 42,
   "metadata": {},
   "outputs": [
    {
     "data": {
      "text/plain": [
       "<BarContainer object of 9 artists>"
      ]
     },
     "execution_count": 42,
     "metadata": {},
     "output_type": "execute_result"
    },
    {
     "data": {
      "image/png": "[encoded data removed]",
      "text/plain": [
       "<Figure size 640x480 with 1 Axes>"
      ]
     },
     "metadata": {},
     "output_type": "display_data"
    }
   ],
   "source": [
    "selector = SelectKBest(score_func= f_regression, k='all')\n",
    "X_ = sm.add_constant(X.T)\n",
    "X_reduced = selector.fit(X_, y)\n",
    "plt.bar([i for i in range(len(selector.scores_))], selector.scores_)\n"
   ]
  },
  {
   "cell_type": "code",
   "execution_count": null,
   "metadata": {},
   "outputs": [],
   "source": []
  },
  {
   "cell_type": "code",
   "execution_count": 5,
   "metadata": {},
   "outputs": [
    {
     "name": "stdout",
     "output_type": "stream",
     "text": [
      "['X1' 'X1**2' 'X2**2']\n"
     ]
    },
    {
     "data": {
      "text/plain": [
       "<matplotlib.collections.PathCollection at 0x14e7abd00>"
      ]
     },
     "execution_count": 5,
     "metadata": {},
     "output_type": "execute_result"
    },
    {
     "data": {
      "image/png": "[encoded data removed]",
      "text/plain": [
       "<Figure size 640x480 with 1 Axes>"
      ]
     },
     "metadata": {},
     "output_type": "display_data"
    }
   ],
   "source": [
    "subset_size = []\n",
    "err = []\n",
    "for el in K:\n",
    "    X_ = X[el].T\n",
    "    X_ = sm.add_constant(X_)\n",
    "\n",
    "    kf = KFold(n_splits=5)\n",
    "    kf_err = []\n",
    "    for train_index, test_index in kf.split(X_):\n",
    "        reg = sm.OLS(y[train_index], X_[train_index]).fit()\n",
    "        kf_err.append(np.mean((reg.predict(X_[test_index]) - y[test_index])**2))\n",
    "    \n",
    "    subset_size.append(sum(el))\n",
    "    err.append(np.mean(kf_err))\n",
    "\n",
    "print(names[K[np.argmin(err)]])\n",
    "plt.scatter(subset_size, err)"
   ]
  },
  {
   "cell_type": "code",
   "execution_count": 8,
   "metadata": {},
   "outputs": [
    {
     "name": "stdout",
     "output_type": "stream",
     "text": [
      "['X1' 'X1**2' 'X2']\n"
     ]
    },
    {
     "data": {
      "text/plain": [
       "<matplotlib.collections.PathCollection at 0x16a940c10>"
      ]
     },
     "execution_count": 8,
     "metadata": {},
     "output_type": "execute_result"
    },
    {
     "data": {
      "image/png": "[encoded data removed]",
      "text/plain": [
       "<Figure size 640x480 with 1 Axes>"
      ]
     },
     "metadata": {},
     "output_type": "display_data"
    }
   ],
   "source": [
    "subset_size = []\n",
    "err = []\n",
    "for el in K:\n",
    "    X_ = X[el].T\n",
    "    X_ = sm.add_constant(X_)\n",
    "\n",
    "    reg = sm.OLS(y, X_).fit()\n",
    "    \n",
    "    subset_size.append(sum(el))\n",
    "    err.append(reg.aic)\n",
    "\n",
    "print(names[K[np.argmin(err)]])\n",
    "plt.scatter(subset_size, err)"
   ]
  },
  {
   "cell_type": "code",
   "execution_count": 9,
   "metadata": {},
   "outputs": [
    {
     "name": "stdout",
     "output_type": "stream",
     "text": [
      "['X1' 'X2']\n"
     ]
    },
    {
     "data": {
      "text/plain": [
       "<matplotlib.collections.PathCollection at 0x16a9cc640>"
      ]
     },
     "execution_count": 9,
     "metadata": {},
     "output_type": "execute_result"
    },
    {
     "data": {
      "image/png": "[encoded data removed]",
      "text/plain": [
       "<Figure size 640x480 with 1 Axes>"
      ]
     },
     "metadata": {},
     "output_type": "display_data"
    }
   ],
   "source": [
    "subset_size = []\n",
    "err = []\n",
    "for el in K:\n",
    "    X_ = X[el].T\n",
    "    X_ = sm.add_constant(X_)\n",
    "\n",
    "    reg = sm.OLS(y, X_).fit()\n",
    "    \n",
    "    subset_size.append(sum(el))\n",
    "    err.append(reg.bic)\n",
    "\n",
    "print(names[K[np.argmin(err)]])\n",
    "plt.scatter(subset_size, err)"
   ]
  },
  {
   "cell_type": "code",
   "execution_count": null,
   "metadata": {},
   "outputs": [],
   "source": []
  },
  {
   "attachments": {},
   "cell_type": "markdown",
   "metadata": {},
   "source": [
    "# Task 2\n"
   ]
  },
  {
   "cell_type": "code",
   "execution_count": 6,
   "metadata": {},
   "outputs": [
    {
     "data": {
      "text/html": [
       "<div>\n",
       "<style scoped>\n",
       "    .dataframe tbody tr th:only-of-type {\n",
       "        vertical-align: middle;\n",
       "    }\n",
       "\n",
       "    .dataframe tbody tr th {\n",
       "        vertical-align: top;\n",
       "    }\n",
       "\n",
       "    .dataframe thead th {\n",
       "        text-align: right;\n",
       "    }\n",
       "</style>\n",
       "<table border=\"1\" class=\"dataframe\">\n",
       "  <thead>\n",
       "    <tr style=\"text-align: right;\">\n",
       "      <th></th>\n",
       "      <th>Hour</th>\n",
       "      <th>CO</th>\n",
       "      <th>Traffic</th>\n",
       "      <th>Wind</th>\n",
       "    </tr>\n",
       "  </thead>\n",
       "  <tbody>\n",
       "    <tr>\n",
       "      <th>0</th>\n",
       "      <td>1</td>\n",
       "      <td>2.4</td>\n",
       "      <td>50</td>\n",
       "      <td>-0.2</td>\n",
       "    </tr>\n",
       "    <tr>\n",
       "      <th>1</th>\n",
       "      <td>2</td>\n",
       "      <td>1.7</td>\n",
       "      <td>26</td>\n",
       "      <td>0.0</td>\n",
       "    </tr>\n",
       "    <tr>\n",
       "      <th>2</th>\n",
       "      <td>3</td>\n",
       "      <td>1.4</td>\n",
       "      <td>16</td>\n",
       "      <td>0.0</td>\n",
       "    </tr>\n",
       "    <tr>\n",
       "      <th>3</th>\n",
       "      <td>4</td>\n",
       "      <td>1.2</td>\n",
       "      <td>10</td>\n",
       "      <td>0.0</td>\n",
       "    </tr>\n",
       "    <tr>\n",
       "      <th>4</th>\n",
       "      <td>5</td>\n",
       "      <td>1.2</td>\n",
       "      <td>12</td>\n",
       "      <td>0.1</td>\n",
       "    </tr>\n",
       "  </tbody>\n",
       "</table>\n",
       "</div>"
      ],
      "text/plain": [
       "   Hour   CO  Traffic  Wind\n",
       "0     1  2.4       50  -0.2\n",
       "1     2  1.7       26   0.0\n",
       "2     3  1.4       16   0.0\n",
       "3     4  1.2       10   0.0\n",
       "4     5  1.2       12   0.1"
      ]
     },
     "execution_count": 6,
     "metadata": {},
     "output_type": "execute_result"
    }
   ],
   "source": [
    "df = pd.read_csv('./datasets/DIM-cofreewy.txt', sep='\\t')\n",
    "df.head()"
   ]
  },
  {
   "cell_type": "code",
   "execution_count": 7,
   "metadata": {},
   "outputs": [],
   "source": [
    "df['Wind^2'] = df.Wind**2\n",
    "df['Periodic hour'] = np.sin(2 * np.pi / 24 * df.Hour)"
   ]
  },
  {
   "cell_type": "code",
   "execution_count": 8,
   "metadata": {},
   "outputs": [
    {
     "data": {
      "text/plain": [
       "Index(['Hour', 'CO', 'Traffic', 'Wind', 'Wind^2', 'Periodic hour'], dtype='object')"
      ]
     },
     "execution_count": 8,
     "metadata": {},
     "output_type": "execute_result"
    }
   ],
   "source": [
    "df.columns"
   ]
  },
  {
   "cell_type": "code",
   "execution_count": 9,
   "metadata": {},
   "outputs": [],
   "source": [
    "feature_names_first = np.array(['Hour', 'Traffic', 'Wind'])\n",
    "feature_names_second = np.array(['Hour', 'Traffic', 'Wind', 'Wind^2', 'Periodic hour'])\n",
    "\n",
    "target_name = 'CO'"
   ]
  },
  {
   "cell_type": "code",
   "execution_count": 55,
   "metadata": {},
   "outputs": [
    {
     "name": "stdout",
     "output_type": "stream",
     "text": [
      "['Traffic' 'Wind']\n"
     ]
    },
    {
     "data": {
      "text/plain": [
       "<matplotlib.collections.PathCollection at 0x284eac4c0>"
      ]
     },
     "execution_count": 55,
     "metadata": {},
     "output_type": "execute_result"
    },
    {
     "data": {
      "image/png": "[encoded data removed]",
      "text/plain": [
       "<Figure size 640x480 with 1 Axes>"
      ]
     },
     "metadata": {},
     "output_type": "display_data"
    }
   ],
   "source": [
    "X = df[feature_names_first].to_numpy()\n",
    "y = df[target_name]\n",
    "\n",
    "p = X.shape[1]\n",
    "K = []\n",
    "\n",
    "for i in range(2**p):\n",
    "    tmp = []\n",
    "    for j in range(p):\n",
    "        tmp.append(i & (1 << j) != 0)\n",
    "        # tmp.append(i & (1 << j) != 0)\n",
    "    K.append(tmp)\n",
    "\n",
    "subset_size = []\n",
    "err = []\n",
    "for el in K:\n",
    "    X_ = X.T[el].T\n",
    "    X_ = sm.add_constant(X_)\n",
    "\n",
    "    reg = sm.OLS(y, X_).fit()\n",
    "    \n",
    "    subset_size.append(sum(el))\n",
    "    err.append(reg.aic)\n",
    "\n",
    "print(feature_names_first[K[np.argmin(err)]])\n",
    "plt.scatter(subset_size, err)"
   ]
  },
  {
   "cell_type": "code",
   "execution_count": 56,
   "metadata": {},
   "outputs": [
    {
     "name": "stdout",
     "output_type": "stream",
     "text": [
      "['Traffic' 'Wind']\n"
     ]
    },
    {
     "data": {
      "text/plain": [
       "<matplotlib.collections.PathCollection at 0x284f1cf70>"
      ]
     },
     "execution_count": 56,
     "metadata": {},
     "output_type": "execute_result"
    },
    {
     "data": {
      "image/png": "[encoded data removed]",
      "text/plain": [
       "<Figure size 640x480 with 1 Axes>"
      ]
     },
     "metadata": {},
     "output_type": "display_data"
    }
   ],
   "source": [
    "X = df[feature_names_first].to_numpy()\n",
    "y = df[target_name]\n",
    "\n",
    "p = X.shape[1]\n",
    "K = []\n",
    "\n",
    "for i in range(2**p):\n",
    "    tmp = []\n",
    "    for j in range(p):\n",
    "        tmp.append(i & (1 << j) != 0)\n",
    "        # tmp.append(i & (1 << j) != 0)\n",
    "    K.append(tmp)\n",
    "\n",
    "subset_size = []\n",
    "err = []\n",
    "for el in K:\n",
    "    X_ = X.T[el].T\n",
    "    X_ = sm.add_constant(X_)\n",
    "\n",
    "    kf = KFold(n_splits=5)\n",
    "    kf_err = []\n",
    "    for train_index, test_index in kf.split(X_):\n",
    "        reg = sm.OLS(y[train_index], X_[train_index]).fit()\n",
    "        kf_err.append(np.mean((reg.predict(X_[test_index]) - y[test_index])**2))\n",
    "    \n",
    "    subset_size.append(sum(el))\n",
    "    err.append(np.mean(kf_err))\n",
    "\n",
    "print(feature_names_first[K[np.argmin(err)]])\n",
    "plt.scatter(subset_size, err)"
   ]
  },
  {
   "cell_type": "code",
   "execution_count": 12,
   "metadata": {},
   "outputs": [
    {
     "name": "stdout",
     "output_type": "stream",
     "text": [
      "['Traffic' 'Wind' 'Wind^2' 'Periodic hour']\n"
     ]
    },
    {
     "data": {
      "text/plain": [
       "<matplotlib.collections.PathCollection at 0x14ee04fd0>"
      ]
     },
     "execution_count": 12,
     "metadata": {},
     "output_type": "execute_result"
    },
    {
     "data": {
      "image/png": "[encoded data removed]",
      "text/plain": [
       "<Figure size 640x480 with 1 Axes>"
      ]
     },
     "metadata": {},
     "output_type": "display_data"
    }
   ],
   "source": [
    "X = df[feature_names_second].to_numpy()\n",
    "y = df[target_name]\n",
    "\n",
    "p = X.shape[1]\n",
    "K = []\n",
    "\n",
    "for i in range(2**p):\n",
    "    tmp = []\n",
    "    for j in range(p):\n",
    "        tmp.append(i & (1 << j) != 0)\n",
    "        # tmp.append(i & (1 << j) != 0)\n",
    "    K.append(tmp)\n",
    "\n",
    "subset_size = []\n",
    "err = []\n",
    "for el in K:\n",
    "    X_ = X.T[el].T\n",
    "    X_ = sm.add_constant(X_)\n",
    "\n",
    "    reg = sm.OLS(y, X_).fit()\n",
    "    \n",
    "    subset_size.append(sum(el))\n",
    "    err.append(reg.aic)\n",
    "\n",
    "print(feature_names_second[K[np.argmin(err)]])\n",
    "plt.scatter(subset_size, err)"
   ]
  },
  {
   "cell_type": "code",
   "execution_count": 28,
   "metadata": {},
   "outputs": [
    {
     "data": {
      "text/plain": [
       "array(['Traffic', 'Wind'], dtype='<U13')"
      ]
     },
     "execution_count": 28,
     "metadata": {},
     "output_type": "execute_result"
    }
   ],
   "source": [
    "level = 2\n",
    "feature_names_second[np.array(K)[(np.array(subset_size)==level) & (np.array(err) == min(np.array(err)[np.array(subset_size)==level]))][0]]"
   ]
  },
  {
   "cell_type": "code",
   "execution_count": 26,
   "metadata": {},
   "outputs": [
    {
     "data": {
      "text/plain": [
       "array([[False,  True,  True,  True, False]])"
      ]
     },
     "execution_count": 26,
     "metadata": {},
     "output_type": "execute_result"
    }
   ],
   "source": []
  },
  {
   "cell_type": "code",
   "execution_count": 31,
   "metadata": {},
   "outputs": [
    {
     "name": "stdout",
     "output_type": "stream",
     "text": [
      "['Traffic' 'Wind' 'Wind^2' 'Periodic hour']\n"
     ]
    },
    {
     "data": {
      "text/plain": [
       "<matplotlib.collections.PathCollection at 0x14f34f2b0>"
      ]
     },
     "execution_count": 31,
     "metadata": {},
     "output_type": "execute_result"
    },
    {
     "data": {
      "image/png": "[encoded data removed]",
      "text/plain": [
       "<Figure size 640x480 with 1 Axes>"
      ]
     },
     "metadata": {},
     "output_type": "display_data"
    }
   ],
   "source": [
    "X = df[feature_names_second].to_numpy()\n",
    "y = df[target_name]\n",
    "\n",
    "p = X.shape[1]\n",
    "K = []\n",
    "\n",
    "for i in range(2**p):\n",
    "    tmp = []\n",
    "    for j in range(p):\n",
    "        tmp.append(i & (1 << j) != 0)\n",
    "        # tmp.append(i & (1 << j) != 0)\n",
    "    K.append(tmp)\n",
    "\n",
    "subset_size = []\n",
    "err = []\n",
    "for el in K:\n",
    "    X_ = X.T[el].T\n",
    "    X_ = sm.add_constant(X_)\n",
    "\n",
    "    kf = KFold(n_splits=20)\n",
    "    kf_err = []\n",
    "    for train_index, test_index in kf.split(X_):\n",
    "        reg = sm.OLS(y[train_index], X_[train_index]).fit()\n",
    "        kf_err.append(np.mean((reg.predict(X_[test_index]) - y[test_index])**2))\n",
    "    \n",
    "    subset_size.append(sum(el))\n",
    "    err.append(np.mean(kf_err))\n",
    "\n",
    "print(feature_names_second[K[np.argmin(err)]])\n",
    "plt.scatter(subset_size, err)"
   ]
  },
  {
   "attachments": {},
   "cell_type": "markdown",
   "metadata": {},
   "source": [
    "# Task 3"
   ]
  },
  {
   "cell_type": "code",
   "execution_count": 32,
   "metadata": {},
   "outputs": [
    {
     "data": {
      "text/html": [
       "<div>\n",
       "<style scoped>\n",
       "    .dataframe tbody tr th:only-of-type {\n",
       "        vertical-align: middle;\n",
       "    }\n",
       "\n",
       "    .dataframe tbody tr th {\n",
       "        vertical-align: top;\n",
       "    }\n",
       "\n",
       "    .dataframe thead th {\n",
       "        text-align: right;\n",
       "    }\n",
       "</style>\n",
       "<table border=\"1\" class=\"dataframe\">\n",
       "  <thead>\n",
       "    <tr style=\"text-align: right;\">\n",
       "      <th></th>\n",
       "      <th>Mass</th>\n",
       "      <th>Fore</th>\n",
       "      <th>Bicep</th>\n",
       "      <th>Chest</th>\n",
       "      <th>Neck</th>\n",
       "      <th>Shoulder</th>\n",
       "      <th>Waist</th>\n",
       "      <th>Height</th>\n",
       "      <th>Calf</th>\n",
       "      <th>Thigh</th>\n",
       "      <th>Head</th>\n",
       "    </tr>\n",
       "  </thead>\n",
       "  <tbody>\n",
       "    <tr>\n",
       "      <th>0</th>\n",
       "      <td>77.0</td>\n",
       "      <td>28.5</td>\n",
       "      <td>33.5</td>\n",
       "      <td>100.0</td>\n",
       "      <td>38.5</td>\n",
       "      <td>114.0</td>\n",
       "      <td>85.0</td>\n",
       "      <td>178.0</td>\n",
       "      <td>37.5</td>\n",
       "      <td>53.0</td>\n",
       "      <td>58.0</td>\n",
       "    </tr>\n",
       "    <tr>\n",
       "      <th>1</th>\n",
       "      <td>85.5</td>\n",
       "      <td>29.5</td>\n",
       "      <td>36.5</td>\n",
       "      <td>107.0</td>\n",
       "      <td>39.0</td>\n",
       "      <td>119.0</td>\n",
       "      <td>90.5</td>\n",
       "      <td>187.0</td>\n",
       "      <td>40.0</td>\n",
       "      <td>52.0</td>\n",
       "      <td>59.0</td>\n",
       "    </tr>\n",
       "    <tr>\n",
       "      <th>2</th>\n",
       "      <td>63.0</td>\n",
       "      <td>25.0</td>\n",
       "      <td>31.0</td>\n",
       "      <td>94.0</td>\n",
       "      <td>36.5</td>\n",
       "      <td>102.0</td>\n",
       "      <td>80.5</td>\n",
       "      <td>175.0</td>\n",
       "      <td>33.0</td>\n",
       "      <td>49.0</td>\n",
       "      <td>57.0</td>\n",
       "    </tr>\n",
       "    <tr>\n",
       "      <th>3</th>\n",
       "      <td>80.5</td>\n",
       "      <td>28.5</td>\n",
       "      <td>34.0</td>\n",
       "      <td>104.0</td>\n",
       "      <td>39.0</td>\n",
       "      <td>114.0</td>\n",
       "      <td>91.5</td>\n",
       "      <td>183.0</td>\n",
       "      <td>38.0</td>\n",
       "      <td>50.0</td>\n",
       "      <td>60.0</td>\n",
       "    </tr>\n",
       "    <tr>\n",
       "      <th>4</th>\n",
       "      <td>79.5</td>\n",
       "      <td>28.5</td>\n",
       "      <td>36.5</td>\n",
       "      <td>107.0</td>\n",
       "      <td>39.0</td>\n",
       "      <td>114.0</td>\n",
       "      <td>92.0</td>\n",
       "      <td>174.0</td>\n",
       "      <td>40.0</td>\n",
       "      <td>53.0</td>\n",
       "      <td>59.0</td>\n",
       "    </tr>\n",
       "  </tbody>\n",
       "</table>\n",
       "</div>"
      ],
      "text/plain": [
       "   Mass  Fore  Bicep  Chest  Neck  Shoulder  Waist  Height  Calf  Thigh  Head\n",
       "0  77.0  28.5   33.5  100.0  38.5     114.0   85.0   178.0  37.5   53.0  58.0\n",
       "1  85.5  29.5   36.5  107.0  39.0     119.0   90.5   187.0  40.0   52.0  59.0\n",
       "2  63.0  25.0   31.0   94.0  36.5     102.0   80.5   175.0  33.0   49.0  57.0\n",
       "3  80.5  28.5   34.0  104.0  39.0     114.0   91.5   183.0  38.0   50.0  60.0\n",
       "4  79.5  28.5   36.5  107.0  39.0     114.0   92.0   174.0  40.0   53.0  59.0"
      ]
     },
     "execution_count": 32,
     "metadata": {},
     "output_type": "execute_result"
    }
   ],
   "source": [
    "df = pd.read_csv('./datasets/DIM-physical.txt', sep='\\t')\n",
    "df.head()"
   ]
  },
  {
   "cell_type": "code",
   "execution_count": 33,
   "metadata": {},
   "outputs": [],
   "source": [
    "feature_names = np.array(['Fore', 'Bicep', 'Chest', 'Neck', 'Shoulder', 'Waist', 'Height',\n",
    "       'Calf', 'Thigh', 'Head'])\n",
    "target_name = 'Mass'"
   ]
  },
  {
   "cell_type": "code",
   "execution_count": 34,
   "metadata": {},
   "outputs": [
    {
     "name": "stdout",
     "output_type": "stream",
     "text": [
      "['Fore' 'Waist' 'Height' 'Calf' 'Thigh' 'Head']\n"
     ]
    },
    {
     "data": {
      "text/plain": [
       "<matplotlib.collections.PathCollection at 0x14f0f4310>"
      ]
     },
     "execution_count": 34,
     "metadata": {},
     "output_type": "execute_result"
    },
    {
     "data": {
      "image/png": "[encoded data removed]",
      "text/plain": [
       "<Figure size 640x480 with 1 Axes>"
      ]
     },
     "metadata": {},
     "output_type": "display_data"
    }
   ],
   "source": [
    "X = df[feature_names].to_numpy()\n",
    "y = df[target_name]\n",
    "\n",
    "p = X.shape[1]\n",
    "K = []\n",
    "\n",
    "for i in range(2**p):\n",
    "    tmp = []\n",
    "    for j in range(p):\n",
    "        tmp.append(i & (1 << j) != 0)\n",
    "    K.append(tmp)\n",
    "\n",
    "subset_size = []\n",
    "err = []\n",
    "for el in K:\n",
    "    X_ = X.T[el].T\n",
    "    X_ = sm.add_constant(X_)\n",
    "\n",
    "    kf = KFold(n_splits=10)\n",
    "    kf_err = []\n",
    "    for train_index, test_index in kf.split(X_):\n",
    "        reg = sm.OLS(y[train_index], X_[train_index]).fit()\n",
    "        kf_err.append(np.mean((reg.predict(X_[test_index]) - y[test_index])**2))\n",
    "    \n",
    "    subset_size.append(sum(el))\n",
    "    err.append(np.mean(kf_err))\n",
    "\n",
    "print(feature_names[K[np.argmin(err)]])\n",
    "plt.scatter(subset_size, err)"
   ]
  },
  {
   "cell_type": "code",
   "execution_count": 35,
   "metadata": {},
   "outputs": [
    {
     "name": "stdout",
     "output_type": "stream",
     "text": [
      "['Fore' 'Waist' 'Height' 'Calf' 'Thigh' 'Head']\n"
     ]
    },
    {
     "data": {
      "text/plain": [
       "<matplotlib.collections.PathCollection at 0x14f486110>"
      ]
     },
     "execution_count": 35,
     "metadata": {},
     "output_type": "execute_result"
    },
    {
     "data": {
      "image/png": "[encoded data removed]",
      "text/plain": [
       "<Figure size 640x480 with 1 Axes>"
      ]
     },
     "metadata": {},
     "output_type": "display_data"
    }
   ],
   "source": [
    "s = StandardScaler()\n",
    "\n",
    "X = df[feature_names].to_numpy()\n",
    "y = df[target_name]\n",
    "\n",
    "s.fit(X)\n",
    "X = s.transform(X)\n",
    "\n",
    "p = X.shape[1]\n",
    "K = []\n",
    "\n",
    "for i in range(2**p):\n",
    "    tmp = []\n",
    "    for j in range(p):\n",
    "        tmp.append(i & (1 << j) != 0)\n",
    "    K.append(tmp)\n",
    "\n",
    "subset_size = []\n",
    "err = []\n",
    "for el in K:\n",
    "    X_ = X.T[el].T\n",
    "    X_ = sm.add_constant(X_)\n",
    "\n",
    "    kf = KFold(n_splits=5)\n",
    "    kf_err = []\n",
    "    for train_index, test_index in kf.split(X_):\n",
    "        reg = sm.OLS(y[train_index], X_[train_index]).fit()\n",
    "        kf_err.append(np.mean((reg.predict(X_[test_index]) - y[test_index])**2))\n",
    "    \n",
    "    subset_size.append(sum(el))\n",
    "    err.append(np.mean(kf_err))\n",
    "\n",
    "print(feature_names[K[np.argmin(err)]])\n",
    "plt.scatter(subset_size, err)"
   ]
  },
  {
   "cell_type": "code",
   "execution_count": 63,
   "metadata": {},
   "outputs": [
    {
     "name": "stdout",
     "output_type": "stream",
     "text": [
      "['Fore' 'Waist' 'Height' 'Calf' 'Thigh' 'Head']\n"
     ]
    },
    {
     "data": {
      "text/plain": [
       "<matplotlib.collections.PathCollection at 0x14019bbb0>"
      ]
     },
     "execution_count": 63,
     "metadata": {},
     "output_type": "execute_result"
    },
    {
     "data": {
      "image/png": "[encoded data removed]",
      "text/plain": [
       "<Figure size 640x480 with 1 Axes>"
      ]
     },
     "metadata": {},
     "output_type": "display_data"
    }
   ],
   "source": [
    "X = df[feature_names].to_numpy()\n",
    "y = df[target_name]\n",
    "\n",
    "p = X.shape[1]\n",
    "K = []\n",
    "\n",
    "for i in range(2**p):\n",
    "    tmp = []\n",
    "    for j in range(p):\n",
    "        tmp.append(i & (1 << j) != 0)\n",
    "        # tmp.append(i & (1 << j) != 0)\n",
    "    K.append(tmp)\n",
    "\n",
    "subset_size = []\n",
    "err = []\n",
    "for el in K:\n",
    "    X_ = X.T[el].T\n",
    "    X_ = sm.add_constant(X_)\n",
    "\n",
    "    reg = sm.OLS(y, X_).fit()\n",
    "    \n",
    "    subset_size.append(sum(el))\n",
    "    err.append(reg.aic)\n",
    "\n",
    "print(feature_names[K[np.argmin(err)]])\n",
    "plt.scatter(subset_size, err)"
   ]
  },
  {
   "cell_type": "code",
   "execution_count": 64,
   "metadata": {},
   "outputs": [
    {
     "name": "stdout",
     "output_type": "stream",
     "text": [
      "['Fore' 'Waist' 'Height' 'Calf' 'Thigh' 'Head']\n"
     ]
    },
    {
     "data": {
      "text/plain": [
       "<matplotlib.collections.PathCollection at 0x140217ac0>"
      ]
     },
     "execution_count": 64,
     "metadata": {},
     "output_type": "execute_result"
    },
    {
     "data": {
      "image/png": "[encoded data removed]",
      "text/plain": [
       "<Figure size 640x480 with 1 Axes>"
      ]
     },
     "metadata": {},
     "output_type": "display_data"
    }
   ],
   "source": [
    "s = StandardScaler()\n",
    "\n",
    "X = df[feature_names].to_numpy()\n",
    "y = df[target_name]\n",
    "\n",
    "s.fit(X)\n",
    "X = s.transform(X)\n",
    "\n",
    "p = X.shape[1]\n",
    "K = []\n",
    "\n",
    "for i in range(2**p):\n",
    "    tmp = []\n",
    "    for j in range(p):\n",
    "        tmp.append(i & (1 << j) != 0)\n",
    "        # tmp.append(i & (1 << j) != 0)\n",
    "    K.append(tmp)\n",
    "\n",
    "subset_size = []\n",
    "err = []\n",
    "for el in K:\n",
    "    X_ = X.T[el].T\n",
    "    X_ = sm.add_constant(X_)\n",
    "\n",
    "    reg = sm.OLS(y, X_).fit()\n",
    "    \n",
    "    subset_size.append(sum(el))\n",
    "    err.append(reg.aic)\n",
    "\n",
    "print(feature_names[K[np.argmin(err)]])\n",
    "plt.scatter(subset_size, err)"
   ]
  },
  {
   "cell_type": "code",
   "execution_count": null,
   "metadata": {},
   "outputs": [],
   "source": []
  }
 ],
 "metadata": {
  "kernelspec": {
   "display_name": "Python 3",
   "language": "python",
   "name": "python3"
  },
  "language_info": {
   "codemirror_mode": {
    "name": "ipython",
    "version": 3
   },
   "file_extension": ".py",
   "mimetype": "text/x-python",
   "name": "python",
   "nbconvert_exporter": "python",
   "pygments_lexer": "ipython3",
   "version": "3.10.10"
  },
  "orig_nbformat": 4,
  "vscode": {
   "interpreter": {
    "hash": "b0fa6594d8f4cbf19f97940f81e996739fb7646882a419484c72d19e05852a7e"
   }
  }
 },
 "nbformat": 4,
 "nbformat_minor": 2
}
